{
 "cells": [
  {
   "cell_type": "markdown",
   "id": "2c661b51-5e08-4ce7-bf99-2bfc4f3b20fd",
   "metadata": {},
   "source": [
    "### 05 Feb_AssQ: OOPs"
   ]
  },
  {
   "cell_type": "code",
   "execution_count": null,
   "id": "a5db48f6-ebe5-4ff9-9d4a-5efa8cc6f893",
   "metadata": {},
   "outputs": [],
   "source": []
  },
  {
   "cell_type": "markdown",
   "id": "9f5709b7-6acc-454d-879a-77b47fe70376",
   "metadata": {},
   "source": [
    "##### Q1. Explain Class and Object with respect to Object-Oriented Programming. Give a suitable example."
   ]
  },
  {
   "cell_type": "markdown",
   "id": "c9296c5c-efcf-427f-b2d3-f2b916869c8e",
   "metadata": {},
   "source": [
    "Ans: 01\n",
    "\n",
    "In object-oriented programming (OOP), a class is a blueprint or template that defines the properties and behaviors of objects. It represents a general concept or category of objects. On the other hand, an object is an instance of a class, representing a specific entity that exists in memory during program execution.\n",
    "\n",
    "Let's consider an example to understand the concepts of class and object:\n",
    "\n",
    "- Class: Dog\n",
    "\n",
    "A class called \"Dog\" can be defined to represent the general properties and behaviors of a dog. It may have attributes such as name, breed, age, and color, as well as methods like bark, eat, and sleep. The class serves as a blueprint for creating individual dog objects.\n",
    "\n",
    "- Object: MyDog\n",
    "\n",
    "Using the \"Dog\" class, we can create an object called \"MyDog.\" This object represents a specific dog with its own unique characteristics. For instance, it may have attribute values like name = \"Buddy,\" breed = \"Labrador Retriever,\" age = 3, and color = \"Golden.\" It can also exhibit behaviors such as barking, eating, and sleeping based on the methods defined in the \"Dog\" class.\n",
    "\n",
    "By creating multiple objects from the same class, we can have different instances of dogs with their own distinct attribute values and independent behaviors. Each object can be manipulated separately, allowing us to work with individual entities while maintaining the overall structure and behavior defined by the class.\n",
    "\n",
    "> In summary, a class defines the blueprint or template for objects, specifying their attributes and behaviors. Objects, on the other hand, are specific instances of a class, representing individual entities with their own unique attribute values and behaviors. The class provides the structure, and objects allow us to create and interact with specific instances of that structure."
   ]
  },
  {
   "cell_type": "markdown",
   "id": "f3212618-bd53-4340-9b12-c87be51af7b4",
   "metadata": {},
   "source": []
  },
  {
   "cell_type": "markdown",
   "id": "98c7c34b-3534-4aa5-86b9-e55edc547df1",
   "metadata": {},
   "source": [
    "##### Q2. Name the four pillars of OOPs."
   ]
  },
  {
   "cell_type": "markdown",
   "id": "ae01d245-259d-41c0-baf4-b1a0ce5e8466",
   "metadata": {},
   "source": [
    "Ans:02\n",
    "\n",
    "Here are the four pillars of object-oriented programming (OOP) :\n",
    "\n",
    "1. Encapsulation: Imagine a box or a container where you can keep things together. Encapsulation in OOP is like putting related data (information) and functions (actions) inside that box called a class. It keeps them organized and protected. The outside world can only interact with the class through specific methods, making sure the data is used correctly and securely.\n",
    "\n",
    "2. Inheritance: Think of inheritance like inheriting traits from your parents. In OOP, inheritance allows one class to inherit or receive characteristics (properties and behaviors) from another class. This saves time and effort by reusing code. The class that passes on its characteristics is called the parent class or superclass, and the class that receives them is called the child class or subclass.\n",
    "\n",
    "3. Polymorphism: Polymorphism is like having different forms or shapes. In OOP, it means that objects can take on different forms or behave differently even if they share a common interface or name. For example, a method with the same name can do different things depending on the object calling it. Polymorphism allows flexibility and adaptability in how objects interact and behave.\n",
    "\n",
    "4. Abstraction: Abstraction is like simplifying something complex by focusing on the most important parts. In OOP, it means creating simplified models or representations of real-world objects. This involves defining abstract classes or interfaces that outline the essential features and actions without getting into specific details. Abstraction helps us think about objects at a higher level, making code more manageable and easier to understand.\n",
    "\n",
    "> These four pillars—encapsulation, inheritance, polymorphism, and abstraction—are the fundamental concepts of OOP. They provide a way to organize, reuse, and make code more flexible and understandable.\n",
    "\n",
    "\n",
    "\n",
    "\n"
   ]
  },
  {
   "cell_type": "markdown",
   "id": "a840fe0d-c323-479d-b14f-effa14159bfc",
   "metadata": {},
   "source": []
  },
  {
   "cell_type": "markdown",
   "id": "91eded75-b4c6-4e29-90b1-cda78f6b33c3",
   "metadata": {},
   "source": [
    "##### Q3. Explain why the __init__() function is used. Give a suitable example."
   ]
  },
  {
   "cell_type": "markdown",
   "id": "ee1d3c23-61e1-42af-83c8-cb50d0de3147",
   "metadata": {},
   "source": [
    "Ans:03\n",
    "\n",
    "- The __init__() function in Python is like a special recipe that helps create and set up objects based on a blueprint called a class. It is used to initialize or provide initial values to the attributes of an object when it is created.\n",
    "\n",
    "- Think of a class as a blueprint for a house, and objects as actual houses built from that blueprint. The __init__() function acts as the constructor that sets up the house with all its initial features and characteristics.\n",
    "\n",
    "Here's a suitable example:\n",
    "\n",
    "- Suppose we have a class called Car, and we want to create objects (cars) from this class. Each car should have attributes like make, model, and year, which define its brand, model name, and manufacturing year, respectively."
   ]
  },
  {
   "cell_type": "code",
   "execution_count": 8,
   "id": "6da9f8fa-c93b-47f3-b059-0604f205fd4c",
   "metadata": {},
   "outputs": [
    {
     "name": "stdout",
     "output_type": "stream",
     "text": [
      "Car: Toyota Camry (2022)\n",
      "Car: Honda Accord (2021)\n"
     ]
    }
   ],
   "source": [
    "class car:\n",
    "    def __init__(self, make, model, year):\n",
    "        self.make = make\n",
    "        self.model = model\n",
    "        self.year = year\n",
    "        \n",
    "    def display_info(self):\n",
    "        print(\"Car: {} {} ({})\".format(self.make, self.model, self.year))\n",
    "        \n",
    "# Creating objects & initializing thier attributes using __init__()\n",
    "    \n",
    "car1 = car(\"Toyota\", \"Camry\", 2022)\n",
    "car2 = car(\"Honda\", \"Accord\", 2021)\n",
    "    \n",
    "car1.display_info()\n",
    "car2.display_info()"
   ]
  },
  {
   "cell_type": "markdown",
   "id": "2ec53f49-0e60-4f1b-bce6-3b51e360af47",
   "metadata": {},
   "source": [
    "- In this example, the __init__() function is defined inside the Car class. It takes parameters like make, model, and year, representing the attributes of a car. Inside the function, these parameters are assigned to the corresponding attributes of the object using the self keyword.\n",
    "\n",
    "- When we create car1 and car2 objects from the Car class, we provide specific values for the attributes. The __init__() function is automatically called for each object, initializing the make, model, and year attributes with the provided values.\n",
    "\n",
    "- The display_info() method is a simple method within the Car class that displays the car's information.\n",
    "\n",
    "- By using the __init__() function, we ensure that each car object has its attributes correctly set when it is created. This way, we can easily access and work with the car's information whenever needed.\n",
    "\n",
    "> In summary, the __init__() function is used to initialize the attributes of an object when it is created from a class. It's like a special setup function that prepares the object with its initial values, allowing us to work with it effectively."
   ]
  },
  {
   "cell_type": "markdown",
   "id": "996c8bfc-c650-4e34-a649-e8da44f258f9",
   "metadata": {},
   "source": []
  },
  {
   "cell_type": "markdown",
   "id": "682a932c-9420-49fb-9aab-4dd426654867",
   "metadata": {},
   "source": [
    "##### Q4. Why self is used in OOPs?"
   ]
  },
  {
   "cell_type": "markdown",
   "id": "0e4e7818-2490-41e5-9327-5bc0bb96f917",
   "metadata": {},
   "source": [
    "Ans:04\n",
    "\n",
    "- The __init__() function is used in Python to set up or initialize objects when they are created from a class. It is like a special function that automatically runs whenever a new object is made.\n",
    "\n",
    "- Imagine you are building a robot. Before the robot can perform any tasks, it needs to be set up with certain initial values, such as its name, age, or any other characteristics it should have. The __init__() function helps in this setup process.\n",
    "\n",
    "- In simple terms, the __init__() function is like a blueprint that tells the robot how it should look and what initial values it should have. When you create a new robot object using that blueprint, the __init__() function is called and it assigns the initial values to the object's attributes (like its name and age).\n",
    "\n",
    "- For example, let's consider a Person class. When we create a new person object, we want to provide their name and age right from the beginning. The __init__() function allows us to do that. It sets up the person object with the provided name and age, so we can use those values later.\n",
    "\n",
    "- By using the __init__() function, we make sure that every new object created from the class starts with the necessary values, making them ready to be used immediately. It simplifies the process of initializing objects and ensures they are in a valid state right from the start.\n",
    "\n",
    "> In summary, the __init__() function is used to set up objects with initial values or characteristics when they are created from a class, making them ready to use. It's like giving a robot its name and age or setting up a person with their initial information."
   ]
  },
  {
   "cell_type": "markdown",
   "id": "4b6bf01e-765c-430d-afdb-a74783dc85b1",
   "metadata": {},
   "source": []
  },
  {
   "cell_type": "markdown",
   "id": "81d7a165-02a0-49f8-b64d-e47bb98080ad",
   "metadata": {},
   "source": [
    "##### Q5. What is inheritance? Give an example for each type of inheritance."
   ]
  },
  {
   "cell_type": "markdown",
   "id": "98c7a5fd-a084-4946-8b5d-5455feba92a5",
   "metadata": {},
   "source": [
    "Ans: 05\n",
    "\n",
    "- Inheritance is a fundamental concept in object-oriented programming (OOP) that allows a class to inherit properties and behaviors from another class. The class that inherits is called the \"child class\" or \"subclass,\" and the class being inherited from is called the \"parent class\" or \"superclass.\" Inheritance promotes code reuse and helps create a hierarchical relationship between classes.\n",
    "\n",
    "There are different types of inheritance in OOP, and here's an explanation of each type along with a simple example:\n",
    "\n",
    "1. Single Inheritance:\n",
    "Single inheritance refers to a child class inheriting from a single parent class. It involves one-to-one inheritance relationship.\n",
    "\n",
    "- Example: Let's consider a Vehicle class as the parent class, and a Car class as the child class inheriting from Vehicle. The Car class inherits the attributes and methods from the Vehicle class."
   ]
  },
  {
   "cell_type": "code",
   "execution_count": 9,
   "id": "9bfefd89-fc39-44b1-9ac3-9c2f36da3b7e",
   "metadata": {},
   "outputs": [
    {
     "name": "stdout",
     "output_type": "stream",
     "text": [
      "Driving the vehicle.\n",
      "Car is accelerating\n"
     ]
    }
   ],
   "source": [
    "class Vehicle:\n",
    "    def __init__(self, brand):\n",
    "        self.brand = brand\n",
    "        \n",
    "    def drive(self):\n",
    "        print(\"Driving the vehicle.\")\n",
    "        \n",
    "class Car(Vehicle):\n",
    "    def accelerate(self):\n",
    "        print(\"Car is accelerating\")\n",
    "        \n",
    "# Creating objects & using single inheritance\n",
    "\n",
    "car = Car(\"Toyota\")\n",
    "car.drive()\n",
    "car.accelerate()"
   ]
  },
  {
   "cell_type": "markdown",
   "id": "14ee03c2-64d6-4d83-ba31-c953d4218e43",
   "metadata": {},
   "source": [
    "2. Multiple Inheritance:\n",
    "Multiple inheritance involves a child class inheriting from multiple parent classes. It allows a class to inherit attributes and methods from multiple sources.\n",
    "\n",
    "- Example: Let's consider a Shape class and a Color class as parent classes, and a ColoredShape class as the child class inheriting from both Shape and Color classes."
   ]
  },
  {
   "cell_type": "code",
   "execution_count": 16,
   "id": "8d07a97e-fad0-46c1-8acc-88efe643106d",
   "metadata": {},
   "outputs": [
    {
     "name": "stdout",
     "output_type": "stream",
     "text": [
      "Drawing the shape.\n",
      "Applying color\n"
     ]
    }
   ],
   "source": [
    "class Shape:\n",
    "    def draw(self):\n",
    "        print(\"Drawing the shape.\")\n",
    "        \n",
    "class Color:\n",
    "    def apply_color(self):\n",
    "        print(\"Applying color\")\n",
    "        \n",
    "class Coloured_Shape(Shape, Color):\n",
    "    pass\n",
    "\n",
    "#Creating an object & using multiple inheritance:\n",
    "\n",
    "Coloured_Shape = Coloured_Shape()\n",
    "Coloured_Shape.draw()\n",
    "Coloured_Shape.apply_color()\n",
    "\n",
    "# (Statement.function )"
   ]
  },
  {
   "cell_type": "markdown",
   "id": "6daf3bb9-1fcf-4cbf-bf1c-fa2da98fb3c4",
   "metadata": {},
   "source": [
    "\n",
    "3. Multilevel Inheritance:\n",
    "Multilevel inheritance involves a child class inheriting from a parent class, and that child class serving as the parent class for another child class. It creates a hierarchy of classes.\n",
    "\n",
    "- Example: Let's consider a Animal class as the parent class, a Mammal class as a child class inheriting from Animal, and a Dog class as a child class inheriting from Mammal."
   ]
  },
  {
   "cell_type": "code",
   "execution_count": 17,
   "id": "9508d90e-ee55-4ded-925d-dbce8bb11766",
   "metadata": {},
   "outputs": [
    {
     "name": "stdout",
     "output_type": "stream",
     "text": [
      "Eating...\n",
      "Sleeping...\n",
      "Barking...\n"
     ]
    }
   ],
   "source": [
    "class Animal:\n",
    "    def eat(self):\n",
    "        print(\"Eating...\")\n",
    "        \n",
    "class Mammal(Animal):\n",
    "    def sleep(self):\n",
    "        print(\"Sleeping...\")\n",
    "        \n",
    "class Dog(Mammal):\n",
    "    def bark(self):\n",
    "        print(\"Barking...\")\n",
    "        \n",
    "# Creating an object & using multilevel inheritance\n",
    "\n",
    "dog = Dog()\n",
    "dog.eat()\n",
    "dog.sleep()\n",
    "dog.bark()"
   ]
  },
  {
   "cell_type": "markdown",
   "id": "db28f9e6-33cf-4228-ae39-e20bb9f1336e",
   "metadata": {},
   "source": [
    "> In each type of inheritance, the child class inherits the attributes and methods from the parent class(es). This allows for code reuse and promotes the concept of hierarchical relationships among classes, where more specialized child classes can inherit and extend the functionalities of more generalized parent classes."
   ]
  },
  {
   "cell_type": "code",
   "execution_count": null,
   "id": "23793123-7f0d-43bb-9c7b-c8de9374015c",
   "metadata": {},
   "outputs": [],
   "source": []
  }
 ],
 "metadata": {
  "kernelspec": {
   "display_name": "Python 3 (ipykernel)",
   "language": "python",
   "name": "python3"
  },
  "language_info": {
   "codemirror_mode": {
    "name": "ipython",
    "version": 3
   },
   "file_extension": ".py",
   "mimetype": "text/x-python",
   "name": "python",
   "nbconvert_exporter": "python",
   "pygments_lexer": "ipython3",
   "version": "3.10.8"
  }
 },
 "nbformat": 4,
 "nbformat_minor": 5
}
